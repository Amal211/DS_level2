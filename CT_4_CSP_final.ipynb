{
  "nbformat": 4,
  "nbformat_minor": 0,
  "metadata": {
    "colab": {
      "name": "CT_4_CSP_final.ipynb",
      "provenance": [],
      "authorship_tag": "ABX9TyNA4aGAk1NhnEIC8mq3NaJv",
      "include_colab_link": true
    },
    "kernelspec": {
      "name": "python3",
      "display_name": "Python 3"
    }
  },
  "cells": [
    {
      "cell_type": "markdown",
      "metadata": {
        "id": "view-in-github",
        "colab_type": "text"
      },
      "source": [
        "<a href=\"https://colab.research.google.com/github/Amal211/DS_level2/blob/main/CT_4_CSP_final.ipynb\" target=\"_parent\"><img src=\"https://colab.research.google.com/assets/colab-badge.svg\" alt=\"Open In Colab\"/></a>"
      ]
    },
    {
      "cell_type": "markdown",
      "metadata": {
        "id": "NpEKY-A4dXOR"
      },
      "source": [
        "- Constraint Satisfaction Problem (CSP): It is the kind of problem that requires satisfying some conditions to solve it. \r\n",
        "- It consists of three main factors: Variables, Domain, Constraints.\r\n",
        "\r\n",
        "- Types of constraints:\r\n",
        "- Precedence constraints: Assignment 2 must start after the end of the assignment 1 and so on. \r\n",
        "- Disjunctive constraint: Each assignmnet cannot overlap another one.\r\n",
        "\r\n",
        "- Our problem is to Complete all the required Assignments.\r\n",
        "- Our goal is to complete Assignments in less time as possible.\r\n",
        "\r\n",
        "- Our Variables: AI_CT6, BD_CT6, DM_CT7, AI_Quiz6, BD_Quiz6, DM_Quiz6\r\n",
        "- Our Domain values that correspond with our variables: {8, 7, 6, 2, 1, 1} -> total = 25 hours \r\n",
        "- Our Constraints:\r\n",
        "1. All assignments must be completed in 18 hours at maximum.\r\n",
        "2. Unlike Quizzes, the CT assignments must take the most hours since they need more time to be done."
      ]
    },
    {
      "cell_type": "code",
      "metadata": {
        "id": "hPI2hfwFx5vW"
      },
      "source": [
        "# import the needed library\r\n",
        "import constraint  \r\n",
        "\r\n",
        "# define the variable as problem \r\n",
        "\r\n",
        "def main():\r\n",
        "\r\n",
        "    problem = constraint.Problem()\r\n",
        "\r\n",
        "    # add variables and their corresponding values\r\n",
        "    problem.addVariable('AI_CT6', range(9))\r\n",
        "    problem.addVariable('BD_CT6', range(8))\r\n",
        "    problem.addVariable('DM_CT7', range(7))\r\n",
        "    problem.addVariable('AI_Quiz6', range(3))\r\n",
        "    problem.addVariable('BD_Quiz6', range(2))\r\n",
        "    problem.addVariable('DM_Quiz6', range(2))\r\n",
        "\r\n",
        "    # add custom constraints\r\n",
        "    def our_constraint(AI_CT6, BD_CT6, DM_CT7, AI_Quiz6, BD_Quiz6, DM_Quiz6):\r\n",
        "        if AI_CT6 > BD_CT6 > DM_CT7 > AI_Quiz6 > BD_Quiz6 == DM_Quiz6 and \\\r\n",
        "        AI_CT6 + BD_CT6 + DM_CT7 + AI_Quiz6 + BD_Quiz6 + DM_Quiz6 == 18:\r\n",
        "            return True\r\n",
        "\r\n",
        "    problem.addConstraint(our_constraint, ['AI_CT6','BD_CT6','DM_CT7','AI_Quiz6','BD_Quiz6','DM_Quiz6'])\r\n",
        "\r\n",
        "    # find the solutions\r\n",
        "    solutions = problem.getSolutions()\r\n",
        "\r\n",
        "    # find the solutions we need\r\n",
        "    try:\r\n",
        "        length = len(solutions)\r\n",
        "        for index, solution in enumerate(solutions):\r\n",
        "            if index == length - 1:\r\n",
        "                print(\"({})\".format(solution), end=\"\")\r\n",
        "            else:\r\n",
        "                print(\" {} \".format(solution), end=\"\")\r\n",
        "                print(\"}\")\r\n",
        "    except ValueError:\r\n",
        "            pass\r\n",
        "        \r\n",
        "if __name__=='__main__':\r\n",
        "    main()\r\n",
        "    "
      ],
      "execution_count": null,
      "outputs": []
    }
  ]
}