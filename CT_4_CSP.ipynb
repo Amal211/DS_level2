{
  "nbformat": 4,
  "nbformat_minor": 0,
  "metadata": {
    "colab": {
      "name": "CT_4_CSP.ipynb",
      "provenance": [],
      "authorship_tag": "ABX9TyMBhZ24YwBvEDokLr99rJCI",
      "include_colab_link": true
    },
    "kernelspec": {
      "name": "python3",
      "display_name": "Python 3"
    }
  },
  "cells": [
    {
      "cell_type": "markdown",
      "metadata": {
        "id": "view-in-github",
        "colab_type": "text"
      },
      "source": [
        "<a href=\"https://colab.research.google.com/github/Amal211/DS_level2/blob/main/CT_4_CSP.ipynb\" target=\"_parent\"><img src=\"https://colab.research.google.com/assets/colab-badge.svg\" alt=\"Open In Colab\"/></a>"
      ]
    },
    {
      "cell_type": "code",
      "metadata": {
        "id": "hPI2hfwFx5vW"
      },
      "source": [
        "import constraint\r\n",
        "\r\n",
        "problem = constraint.Problem()\r\n",
        "\r\n",
        "# 25 hours\r\n",
        "problem.addVariable('A', range(9))\r\n",
        "problem.addVariable('B', range(8))\r\n",
        "problem.addVariable('C', range(7))\r\n",
        "problem.addVariable('D', range(3))\r\n",
        "problem.addVariable('E', range(2))\r\n",
        "problem.addVariable('F', range(2))\r\n",
        "\r\n",
        "def our_constraint(A, B, C, D, E, F):\r\n",
        "    if A > B > C > D > E == F and A + B + C + D + E + F == 18:\r\n",
        "        return True\r\n",
        "\r\n",
        "problem.addConstraint(our_constraint, ['A','B','C','D','E','F'])\r\n",
        "\r\n",
        "solutions = problem.getSolutions()\r\n",
        "\r\n",
        "length = len(solutions)\r\n",
        "\r\n",
        "for index, solution in enumerate(solutions):\r\n",
        "  if index == length - 1:\r\n",
        "    print(\"({})\".format(solution), end=\"\")\r\n",
        "  else:\r\n",
        "    print(\" {} \".format(solution), end=\"\")\r\n",
        "    print(\"}\")"
      ],
      "execution_count": null,
      "outputs": []
    }
  ]
}